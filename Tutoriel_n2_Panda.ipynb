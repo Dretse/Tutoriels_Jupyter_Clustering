{
 "cells": [
  {
   "cell_type": "markdown",
   "metadata": {
    "slideshow": {
     "slide_type": "slide"
    }
   },
   "source": [
    "# Tutoriel n°2 : Initiation à Pandas<br>\n",
    "## Et Spectral Coclustering"
   ]
  },
  {
   "cell_type": "markdown",
   "metadata": {
    "slideshow": {
     "slide_type": "slide"
    }
   },
   "source": [
    "## A : Importation du module pandas\n",
    "<img src=\"Captures\\pandas_logo.png\" width=300>"
   ]
  },
  {
   "cell_type": "code",
   "execution_count": 1,
   "metadata": {
    "slideshow": {
     "slide_type": "fragment"
    }
   },
   "outputs": [],
   "source": [
    "import pandas as pd"
   ]
  },
  {
   "cell_type": "markdown",
   "metadata": {
    "slideshow": {
     "slide_type": "slide"
    }
   },
   "source": [
    "## B : Importation des données\n",
    "#### Depuis un fichier excel"
   ]
  },
  {
   "cell_type": "markdown",
   "metadata": {
    "slideshow": {
     "slide_type": "fragment"
    }
   },
   "source": [
    "Nous allons importer le fichier \"Box_votes_avectotaux.xlsx\", qui contient 169 idées, notées sur 6 critères."
   ]
  },
  {
   "cell_type": "markdown",
   "metadata": {
    "slideshow": {
     "slide_type": "subslide"
    }
   },
   "source": [
    "Importation des données"
   ]
  },
  {
   "cell_type": "code",
   "execution_count": 2,
   "metadata": {
    "slideshow": {
     "slide_type": "fragment"
    }
   },
   "outputs": [],
   "source": [
    "Donnees = pd.read_excel(\"Box_votes_avectotaux.xlsx\")"
   ]
  },
  {
   "cell_type": "code",
   "execution_count": 3,
   "metadata": {
    "scrolled": true,
    "slideshow": {
     "slide_type": "fragment"
    }
   },
   "outputs": [
    {
     "data": {
      "text/html": [
       "<div>\n",
       "<style scoped>\n",
       "    .dataframe tbody tr th:only-of-type {\n",
       "        vertical-align: middle;\n",
       "    }\n",
       "\n",
       "    .dataframe tbody tr th {\n",
       "        vertical-align: top;\n",
       "    }\n",
       "\n",
       "    .dataframe thead th {\n",
       "        text-align: right;\n",
       "    }\n",
       "</style>\n",
       "<table border=\"1\" class=\"dataframe\">\n",
       "  <thead>\n",
       "    <tr style=\"text-align: right;\">\n",
       "      <th></th>\n",
       "      <th>Idea number</th>\n",
       "      <th>RSE</th>\n",
       "      <th>Succès client</th>\n",
       "      <th>Pro &amp; GP</th>\n",
       "      <th>Innovant</th>\n",
       "      <th>Urgent</th>\n",
       "      <th>Services tiers</th>\n",
       "      <th>Somme</th>\n",
       "      <th>Unnamed: 8</th>\n",
       "      <th>Unnamed: 9</th>\n",
       "      <th>Unnamed: 10</th>\n",
       "    </tr>\n",
       "  </thead>\n",
       "  <tbody>\n",
       "    <tr>\n",
       "      <th>0</th>\n",
       "      <td>1</td>\n",
       "      <td>NaN</td>\n",
       "      <td>3.000000</td>\n",
       "      <td>3.000000</td>\n",
       "      <td>7.00000</td>\n",
       "      <td>1.000000</td>\n",
       "      <td>1</td>\n",
       "      <td>15.0</td>\n",
       "      <td>NaN</td>\n",
       "      <td>NaN</td>\n",
       "      <td>2.5</td>\n",
       "    </tr>\n",
       "    <tr>\n",
       "      <th>1</th>\n",
       "      <td>2</td>\n",
       "      <td>2.000000</td>\n",
       "      <td>2.000000</td>\n",
       "      <td>4.000000</td>\n",
       "      <td>5.00000</td>\n",
       "      <td>1.000000</td>\n",
       "      <td>2</td>\n",
       "      <td>16.0</td>\n",
       "      <td>NaN</td>\n",
       "      <td>NaN</td>\n",
       "      <td>2.66667</td>\n",
       "    </tr>\n",
       "    <tr>\n",
       "      <th>2</th>\n",
       "      <td>3</td>\n",
       "      <td>NaN</td>\n",
       "      <td>2.000000</td>\n",
       "      <td>4.000000</td>\n",
       "      <td>1.00000</td>\n",
       "      <td>5.000000</td>\n",
       "      <td>3</td>\n",
       "      <td>15.0</td>\n",
       "      <td>NaN</td>\n",
       "      <td>NaN</td>\n",
       "      <td>2.5</td>\n",
       "    </tr>\n",
       "    <tr>\n",
       "      <th>3</th>\n",
       "      <td>4</td>\n",
       "      <td>1.000000</td>\n",
       "      <td>5.000000</td>\n",
       "      <td>1.000000</td>\n",
       "      <td>NaN</td>\n",
       "      <td>NaN</td>\n",
       "      <td>9</td>\n",
       "      <td>16.0</td>\n",
       "      <td>NaN</td>\n",
       "      <td>NaN</td>\n",
       "      <td>2.66667</td>\n",
       "    </tr>\n",
       "    <tr>\n",
       "      <th>4</th>\n",
       "      <td>5</td>\n",
       "      <td>NaN</td>\n",
       "      <td>6.000000</td>\n",
       "      <td>1.000000</td>\n",
       "      <td>NaN</td>\n",
       "      <td>2.000000</td>\n",
       "      <td>6</td>\n",
       "      <td>15.0</td>\n",
       "      <td>NaN</td>\n",
       "      <td>NaN</td>\n",
       "      <td>2.5</td>\n",
       "    </tr>\n",
       "    <tr>\n",
       "      <th>...</th>\n",
       "      <td>...</td>\n",
       "      <td>...</td>\n",
       "      <td>...</td>\n",
       "      <td>...</td>\n",
       "      <td>...</td>\n",
       "      <td>...</td>\n",
       "      <td>...</td>\n",
       "      <td>...</td>\n",
       "      <td>...</td>\n",
       "      <td>...</td>\n",
       "      <td>...</td>\n",
       "    </tr>\n",
       "    <tr>\n",
       "      <th>170</th>\n",
       "      <td>somme====</td>\n",
       "      <td>377.000000</td>\n",
       "      <td>425.000000</td>\n",
       "      <td>424.000000</td>\n",
       "      <td>398.00000</td>\n",
       "      <td>261.000000</td>\n",
       "      <td>561</td>\n",
       "      <td>NaN</td>\n",
       "      <td>2446.000000</td>\n",
       "      <td>407.666667</td>\n",
       "      <td>NaN</td>\n",
       "    </tr>\n",
       "    <tr>\n",
       "      <th>171</th>\n",
       "      <td>NaN</td>\n",
       "      <td>NaN</td>\n",
       "      <td>NaN</td>\n",
       "      <td>NaN</td>\n",
       "      <td>NaN</td>\n",
       "      <td>NaN</td>\n",
       "      <td>MAX</td>\n",
       "      <td>18.0</td>\n",
       "      <td>NaN</td>\n",
       "      <td>NaN</td>\n",
       "      <td>NaN</td>\n",
       "    </tr>\n",
       "    <tr>\n",
       "      <th>172</th>\n",
       "      <td>NaN</td>\n",
       "      <td>NaN</td>\n",
       "      <td>NaN</td>\n",
       "      <td>NaN</td>\n",
       "      <td>NaN</td>\n",
       "      <td>NaN</td>\n",
       "      <td>MIN</td>\n",
       "      <td>7.0</td>\n",
       "      <td>NaN</td>\n",
       "      <td>NaN</td>\n",
       "      <td>NaN</td>\n",
       "    </tr>\n",
       "    <tr>\n",
       "      <th>173</th>\n",
       "      <td>NaN</td>\n",
       "      <td>NaN</td>\n",
       "      <td>NaN</td>\n",
       "      <td>NaN</td>\n",
       "      <td>NaN</td>\n",
       "      <td>NaN</td>\n",
       "      <td>NaN</td>\n",
       "      <td>NaN</td>\n",
       "      <td>14.473373</td>\n",
       "      <td>NaN</td>\n",
       "      <td>NaN</td>\n",
       "    </tr>\n",
       "    <tr>\n",
       "      <th>174</th>\n",
       "      <td>moyennes==</td>\n",
       "      <td>2.230769</td>\n",
       "      <td>2.514793</td>\n",
       "      <td>2.508876</td>\n",
       "      <td>2.35503</td>\n",
       "      <td>1.544379</td>\n",
       "      <td>3.31953</td>\n",
       "      <td>NaN</td>\n",
       "      <td>NaN</td>\n",
       "      <td>NaN</td>\n",
       "      <td>NaN</td>\n",
       "    </tr>\n",
       "  </tbody>\n",
       "</table>\n",
       "<p>175 rows × 11 columns</p>\n",
       "</div>"
      ],
      "text/plain": [
       "    Idea number         RSE  Succès client    Pro & GP   Innovant      Urgent  \\\n",
       "0             1         NaN       3.000000    3.000000    7.00000    1.000000   \n",
       "1             2    2.000000       2.000000    4.000000    5.00000    1.000000   \n",
       "2             3         NaN       2.000000    4.000000    1.00000    5.000000   \n",
       "3             4    1.000000       5.000000    1.000000        NaN         NaN   \n",
       "4             5         NaN       6.000000    1.000000        NaN    2.000000   \n",
       "..          ...         ...            ...         ...        ...         ...   \n",
       "170   somme====  377.000000     425.000000  424.000000  398.00000  261.000000   \n",
       "171         NaN         NaN            NaN         NaN        NaN         NaN   \n",
       "172         NaN         NaN            NaN         NaN        NaN         NaN   \n",
       "173         NaN         NaN            NaN         NaN        NaN         NaN   \n",
       "174  moyennes==    2.230769       2.514793    2.508876    2.35503    1.544379   \n",
       "\n",
       "    Services tiers  Somme   Unnamed: 8  Unnamed: 9 Unnamed: 10  \n",
       "0                1   15.0          NaN         NaN         2.5  \n",
       "1                2   16.0          NaN         NaN     2.66667  \n",
       "2                3   15.0          NaN         NaN         2.5  \n",
       "3                9   16.0          NaN         NaN     2.66667  \n",
       "4                6   15.0          NaN         NaN         2.5  \n",
       "..             ...    ...          ...         ...         ...  \n",
       "170            561    NaN  2446.000000  407.666667         NaN  \n",
       "171            MAX   18.0          NaN         NaN         NaN  \n",
       "172            MIN    7.0          NaN         NaN         NaN  \n",
       "173            NaN    NaN    14.473373         NaN         NaN  \n",
       "174        3.31953    NaN          NaN         NaN         NaN  \n",
       "\n",
       "[175 rows x 11 columns]"
      ]
     },
     "execution_count": 3,
     "metadata": {},
     "output_type": "execute_result"
    }
   ],
   "source": [
    "Donnees"
   ]
  },
  {
   "cell_type": "markdown",
   "metadata": {
    "slideshow": {
     "slide_type": "slide"
    }
   },
   "source": [
    "## C : Prétraitement des données"
   ]
  },
  {
   "cell_type": "markdown",
   "metadata": {
    "slideshow": {
     "slide_type": "subslide"
    }
   },
   "source": [
    "Sélection des 6 colonnes et des 169 lignes correspondantes à nos idées :"
   ]
  },
  {
   "cell_type": "code",
   "execution_count": 4,
   "metadata": {
    "scrolled": true,
    "slideshow": {
     "slide_type": "fragment"
    }
   },
   "outputs": [
    {
     "data": {
      "text/html": [
       "<div>\n",
       "<style scoped>\n",
       "    .dataframe tbody tr th:only-of-type {\n",
       "        vertical-align: middle;\n",
       "    }\n",
       "\n",
       "    .dataframe tbody tr th {\n",
       "        vertical-align: top;\n",
       "    }\n",
       "\n",
       "    .dataframe thead th {\n",
       "        text-align: right;\n",
       "    }\n",
       "</style>\n",
       "<table border=\"1\" class=\"dataframe\">\n",
       "  <thead>\n",
       "    <tr style=\"text-align: right;\">\n",
       "      <th></th>\n",
       "      <th>RSE</th>\n",
       "      <th>Succès client</th>\n",
       "      <th>Pro &amp; GP</th>\n",
       "      <th>Innovant</th>\n",
       "      <th>Urgent</th>\n",
       "      <th>Services tiers</th>\n",
       "    </tr>\n",
       "  </thead>\n",
       "  <tbody>\n",
       "    <tr>\n",
       "      <th>0</th>\n",
       "      <td>NaN</td>\n",
       "      <td>3.0</td>\n",
       "      <td>3.0</td>\n",
       "      <td>7.0</td>\n",
       "      <td>1.0</td>\n",
       "      <td>1</td>\n",
       "    </tr>\n",
       "    <tr>\n",
       "      <th>1</th>\n",
       "      <td>2.0</td>\n",
       "      <td>2.0</td>\n",
       "      <td>4.0</td>\n",
       "      <td>5.0</td>\n",
       "      <td>1.0</td>\n",
       "      <td>2</td>\n",
       "    </tr>\n",
       "    <tr>\n",
       "      <th>2</th>\n",
       "      <td>NaN</td>\n",
       "      <td>2.0</td>\n",
       "      <td>4.0</td>\n",
       "      <td>1.0</td>\n",
       "      <td>5.0</td>\n",
       "      <td>3</td>\n",
       "    </tr>\n",
       "    <tr>\n",
       "      <th>3</th>\n",
       "      <td>1.0</td>\n",
       "      <td>5.0</td>\n",
       "      <td>1.0</td>\n",
       "      <td>NaN</td>\n",
       "      <td>NaN</td>\n",
       "      <td>9</td>\n",
       "    </tr>\n",
       "    <tr>\n",
       "      <th>4</th>\n",
       "      <td>NaN</td>\n",
       "      <td>6.0</td>\n",
       "      <td>1.0</td>\n",
       "      <td>NaN</td>\n",
       "      <td>2.0</td>\n",
       "      <td>6</td>\n",
       "    </tr>\n",
       "    <tr>\n",
       "      <th>...</th>\n",
       "      <td>...</td>\n",
       "      <td>...</td>\n",
       "      <td>...</td>\n",
       "      <td>...</td>\n",
       "      <td>...</td>\n",
       "      <td>...</td>\n",
       "    </tr>\n",
       "    <tr>\n",
       "      <th>164</th>\n",
       "      <td>3.0</td>\n",
       "      <td>3.0</td>\n",
       "      <td>1.0</td>\n",
       "      <td>NaN</td>\n",
       "      <td>8.0</td>\n",
       "      <td>NaN</td>\n",
       "    </tr>\n",
       "    <tr>\n",
       "      <th>165</th>\n",
       "      <td>1.0</td>\n",
       "      <td>NaN</td>\n",
       "      <td>1.0</td>\n",
       "      <td>NaN</td>\n",
       "      <td>1.0</td>\n",
       "      <td>10</td>\n",
       "    </tr>\n",
       "    <tr>\n",
       "      <th>166</th>\n",
       "      <td>7.0</td>\n",
       "      <td>NaN</td>\n",
       "      <td>NaN</td>\n",
       "      <td>NaN</td>\n",
       "      <td>NaN</td>\n",
       "      <td>4</td>\n",
       "    </tr>\n",
       "    <tr>\n",
       "      <th>167</th>\n",
       "      <td>5.0</td>\n",
       "      <td>4.0</td>\n",
       "      <td>NaN</td>\n",
       "      <td>1.0</td>\n",
       "      <td>NaN</td>\n",
       "      <td>2</td>\n",
       "    </tr>\n",
       "    <tr>\n",
       "      <th>168</th>\n",
       "      <td>6.0</td>\n",
       "      <td>1.0</td>\n",
       "      <td>1.0</td>\n",
       "      <td>2.0</td>\n",
       "      <td>NaN</td>\n",
       "      <td>5</td>\n",
       "    </tr>\n",
       "  </tbody>\n",
       "</table>\n",
       "<p>169 rows × 6 columns</p>\n",
       "</div>"
      ],
      "text/plain": [
       "     RSE  Succès client  Pro & GP  Innovant  Urgent Services tiers\n",
       "0    NaN            3.0       3.0       7.0     1.0              1\n",
       "1    2.0            2.0       4.0       5.0     1.0              2\n",
       "2    NaN            2.0       4.0       1.0     5.0              3\n",
       "3    1.0            5.0       1.0       NaN     NaN              9\n",
       "4    NaN            6.0       1.0       NaN     2.0              6\n",
       "..   ...            ...       ...       ...     ...            ...\n",
       "164  3.0            3.0       1.0       NaN     8.0            NaN\n",
       "165  1.0            NaN       1.0       NaN     1.0             10\n",
       "166  7.0            NaN       NaN       NaN     NaN              4\n",
       "167  5.0            4.0       NaN       1.0     NaN              2\n",
       "168  6.0            1.0       1.0       2.0     NaN              5\n",
       "\n",
       "[169 rows x 6 columns]"
      ]
     },
     "execution_count": 4,
     "metadata": {},
     "output_type": "execute_result"
    }
   ],
   "source": [
    "Donnees = Donnees.iloc[:169,1:7]\n",
    "Donnees"
   ]
  },
  {
   "cell_type": "markdown",
   "metadata": {
    "slideshow": {
     "slide_type": "subslide"
    }
   },
   "source": [
    "Changement des valeures <i>NaN</i> par des 0."
   ]
  },
  {
   "cell_type": "code",
   "execution_count": 5,
   "metadata": {
    "slideshow": {
     "slide_type": "fragment"
    }
   },
   "outputs": [
    {
     "data": {
      "text/html": [
       "<div>\n",
       "<style scoped>\n",
       "    .dataframe tbody tr th:only-of-type {\n",
       "        vertical-align: middle;\n",
       "    }\n",
       "\n",
       "    .dataframe tbody tr th {\n",
       "        vertical-align: top;\n",
       "    }\n",
       "\n",
       "    .dataframe thead th {\n",
       "        text-align: right;\n",
       "    }\n",
       "</style>\n",
       "<table border=\"1\" class=\"dataframe\">\n",
       "  <thead>\n",
       "    <tr style=\"text-align: right;\">\n",
       "      <th></th>\n",
       "      <th>RSE</th>\n",
       "      <th>Succès client</th>\n",
       "      <th>Pro &amp; GP</th>\n",
       "      <th>Innovant</th>\n",
       "      <th>Urgent</th>\n",
       "      <th>Services tiers</th>\n",
       "    </tr>\n",
       "  </thead>\n",
       "  <tbody>\n",
       "    <tr>\n",
       "      <th>0</th>\n",
       "      <td>0.0</td>\n",
       "      <td>3.0</td>\n",
       "      <td>3.0</td>\n",
       "      <td>7.0</td>\n",
       "      <td>1.0</td>\n",
       "      <td>1</td>\n",
       "    </tr>\n",
       "    <tr>\n",
       "      <th>1</th>\n",
       "      <td>2.0</td>\n",
       "      <td>2.0</td>\n",
       "      <td>4.0</td>\n",
       "      <td>5.0</td>\n",
       "      <td>1.0</td>\n",
       "      <td>2</td>\n",
       "    </tr>\n",
       "    <tr>\n",
       "      <th>2</th>\n",
       "      <td>0.0</td>\n",
       "      <td>2.0</td>\n",
       "      <td>4.0</td>\n",
       "      <td>1.0</td>\n",
       "      <td>5.0</td>\n",
       "      <td>3</td>\n",
       "    </tr>\n",
       "    <tr>\n",
       "      <th>3</th>\n",
       "      <td>1.0</td>\n",
       "      <td>5.0</td>\n",
       "      <td>1.0</td>\n",
       "      <td>0.0</td>\n",
       "      <td>0.0</td>\n",
       "      <td>9</td>\n",
       "    </tr>\n",
       "    <tr>\n",
       "      <th>4</th>\n",
       "      <td>0.0</td>\n",
       "      <td>6.0</td>\n",
       "      <td>1.0</td>\n",
       "      <td>0.0</td>\n",
       "      <td>2.0</td>\n",
       "      <td>6</td>\n",
       "    </tr>\n",
       "  </tbody>\n",
       "</table>\n",
       "</div>"
      ],
      "text/plain": [
       "   RSE  Succès client  Pro & GP  Innovant  Urgent  Services tiers\n",
       "0  0.0            3.0       3.0       7.0     1.0               1\n",
       "1  2.0            2.0       4.0       5.0     1.0               2\n",
       "2  0.0            2.0       4.0       1.0     5.0               3\n",
       "3  1.0            5.0       1.0       0.0     0.0               9\n",
       "4  0.0            6.0       1.0       0.0     2.0               6"
      ]
     },
     "execution_count": 5,
     "metadata": {},
     "output_type": "execute_result"
    }
   ],
   "source": [
    "Donnees = Donnees.fillna(value=0)\n",
    "Donnees.head()"
   ]
  },
  {
   "cell_type": "markdown",
   "metadata": {
    "slideshow": {
     "slide_type": "subslide"
    }
   },
   "source": [
    "Division de chaque idée par la somme de ses votes"
   ]
  },
  {
   "cell_type": "code",
   "execution_count": 6,
   "metadata": {
    "slideshow": {
     "slide_type": "fragment"
    }
   },
   "outputs": [
    {
     "data": {
      "text/html": [
       "<div>\n",
       "<style scoped>\n",
       "    .dataframe tbody tr th:only-of-type {\n",
       "        vertical-align: middle;\n",
       "    }\n",
       "\n",
       "    .dataframe tbody tr th {\n",
       "        vertical-align: top;\n",
       "    }\n",
       "\n",
       "    .dataframe thead th {\n",
       "        text-align: right;\n",
       "    }\n",
       "</style>\n",
       "<table border=\"1\" class=\"dataframe\">\n",
       "  <thead>\n",
       "    <tr style=\"text-align: right;\">\n",
       "      <th></th>\n",
       "      <th>RSE</th>\n",
       "      <th>Succès client</th>\n",
       "      <th>Pro &amp; GP</th>\n",
       "      <th>Innovant</th>\n",
       "      <th>Urgent</th>\n",
       "      <th>Services tiers</th>\n",
       "    </tr>\n",
       "  </thead>\n",
       "  <tbody>\n",
       "    <tr>\n",
       "      <th>0</th>\n",
       "      <td>0.0000</td>\n",
       "      <td>0.200000</td>\n",
       "      <td>0.200000</td>\n",
       "      <td>0.466667</td>\n",
       "      <td>0.066667</td>\n",
       "      <td>0.066667</td>\n",
       "    </tr>\n",
       "    <tr>\n",
       "      <th>1</th>\n",
       "      <td>0.1250</td>\n",
       "      <td>0.125000</td>\n",
       "      <td>0.250000</td>\n",
       "      <td>0.312500</td>\n",
       "      <td>0.062500</td>\n",
       "      <td>0.125000</td>\n",
       "    </tr>\n",
       "    <tr>\n",
       "      <th>2</th>\n",
       "      <td>0.0000</td>\n",
       "      <td>0.133333</td>\n",
       "      <td>0.266667</td>\n",
       "      <td>0.066667</td>\n",
       "      <td>0.333333</td>\n",
       "      <td>0.200000</td>\n",
       "    </tr>\n",
       "    <tr>\n",
       "      <th>3</th>\n",
       "      <td>0.0625</td>\n",
       "      <td>0.312500</td>\n",
       "      <td>0.062500</td>\n",
       "      <td>0.000000</td>\n",
       "      <td>0.000000</td>\n",
       "      <td>0.562500</td>\n",
       "    </tr>\n",
       "    <tr>\n",
       "      <th>4</th>\n",
       "      <td>0.0000</td>\n",
       "      <td>0.400000</td>\n",
       "      <td>0.066667</td>\n",
       "      <td>0.000000</td>\n",
       "      <td>0.133333</td>\n",
       "      <td>0.400000</td>\n",
       "    </tr>\n",
       "  </tbody>\n",
       "</table>\n",
       "</div>"
      ],
      "text/plain": [
       "      RSE  Succès client  Pro & GP  Innovant    Urgent  Services tiers\n",
       "0  0.0000       0.200000  0.200000  0.466667  0.066667        0.066667\n",
       "1  0.1250       0.125000  0.250000  0.312500  0.062500        0.125000\n",
       "2  0.0000       0.133333  0.266667  0.066667  0.333333        0.200000\n",
       "3  0.0625       0.312500  0.062500  0.000000  0.000000        0.562500\n",
       "4  0.0000       0.400000  0.066667  0.000000  0.133333        0.400000"
      ]
     },
     "execution_count": 6,
     "metadata": {},
     "output_type": "execute_result"
    }
   ],
   "source": [
    "DonneesDiv = Donnees.div(Donnees.sum(axis=1),axis=0)\n",
    "DonneesDiv.head()"
   ]
  },
  {
   "cell_type": "markdown",
   "metadata": {
    "slideshow": {
     "slide_type": "subslide"
    }
   },
   "source": [
    "Notes par idée allant de 0 à 1"
   ]
  },
  {
   "cell_type": "markdown",
   "metadata": {
    "slideshow": {
     "slide_type": "fragment"
    }
   },
   "source": [
    "<img src=\"division.png\" height=\"350\" width=\"350\">"
   ]
  },
  {
   "cell_type": "code",
   "execution_count": 7,
   "metadata": {
    "slideshow": {
     "slide_type": "fragment"
    }
   },
   "outputs": [],
   "source": [
    "#Soustraction par le minimum de chaque ligne,\n",
    "#on passe de [min,max] à [0,max-min]\n",
    "Donnees_normalisees = DonneesDiv.sub(DonneesDiv.min(axis=1),axis=0)"
   ]
  },
  {
   "cell_type": "code",
   "execution_count": 8,
   "metadata": {
    "slideshow": {
     "slide_type": "fragment"
    }
   },
   "outputs": [],
   "source": [
    "#Division par le maximum de chaque ligne,\n",
    "#on passe de [0,max] à [0,1]\n",
    "Donnees_normalisees = Donnees_normalisees.div(Donnees_normalisees.max(axis=1),axis=0) "
   ]
  },
  {
   "cell_type": "markdown",
   "metadata": {
    "slideshow": {
     "slide_type": "subslide"
    }
   },
   "source": [
    "Notes par idée allant de 0 à 1"
   ]
  },
  {
   "cell_type": "code",
   "execution_count": 9,
   "metadata": {
    "slideshow": {
     "slide_type": "fragment"
    }
   },
   "outputs": [],
   "source": [
    "Donnees_normalisees = (DonneesDiv-DonneesDiv.min())/(DonneesDiv.max()-DonneesDiv.min())"
   ]
  },
  {
   "cell_type": "code",
   "execution_count": 10,
   "metadata": {
    "slideshow": {
     "slide_type": "fragment"
    }
   },
   "outputs": [
    {
     "name": "stdout",
     "output_type": "stream",
     "text": [
      "Données Normalisées :\n"
     ]
    },
    {
     "data": {
      "text/html": [
       "<div>\n",
       "<style scoped>\n",
       "    .dataframe tbody tr th:only-of-type {\n",
       "        vertical-align: middle;\n",
       "    }\n",
       "\n",
       "    .dataframe tbody tr th {\n",
       "        vertical-align: top;\n",
       "    }\n",
       "\n",
       "    .dataframe thead th {\n",
       "        text-align: right;\n",
       "    }\n",
       "</style>\n",
       "<table border=\"1\" class=\"dataframe\">\n",
       "  <thead>\n",
       "    <tr style=\"text-align: right;\">\n",
       "      <th></th>\n",
       "      <th>RSE</th>\n",
       "      <th>Succès client</th>\n",
       "      <th>Pro &amp; GP</th>\n",
       "      <th>Innovant</th>\n",
       "      <th>Urgent</th>\n",
       "      <th>Services tiers</th>\n",
       "    </tr>\n",
       "  </thead>\n",
       "  <tbody>\n",
       "    <tr>\n",
       "      <th>0</th>\n",
       "      <td>0.000000</td>\n",
       "      <td>0.283333</td>\n",
       "      <td>0.280000</td>\n",
       "      <td>0.641667</td>\n",
       "      <td>0.111111</td>\n",
       "      <td>0.072222</td>\n",
       "    </tr>\n",
       "    <tr>\n",
       "      <th>1</th>\n",
       "      <td>0.134615</td>\n",
       "      <td>0.177083</td>\n",
       "      <td>0.350000</td>\n",
       "      <td>0.429688</td>\n",
       "      <td>0.104167</td>\n",
       "      <td>0.135417</td>\n",
       "    </tr>\n",
       "    <tr>\n",
       "      <th>2</th>\n",
       "      <td>0.000000</td>\n",
       "      <td>0.188889</td>\n",
       "      <td>0.373333</td>\n",
       "      <td>0.091667</td>\n",
       "      <td>0.555556</td>\n",
       "      <td>0.216667</td>\n",
       "    </tr>\n",
       "    <tr>\n",
       "      <th>3</th>\n",
       "      <td>0.067308</td>\n",
       "      <td>0.442708</td>\n",
       "      <td>0.087500</td>\n",
       "      <td>0.000000</td>\n",
       "      <td>0.000000</td>\n",
       "      <td>0.609375</td>\n",
       "    </tr>\n",
       "    <tr>\n",
       "      <th>4</th>\n",
       "      <td>0.000000</td>\n",
       "      <td>0.566667</td>\n",
       "      <td>0.093333</td>\n",
       "      <td>0.000000</td>\n",
       "      <td>0.222222</td>\n",
       "      <td>0.433333</td>\n",
       "    </tr>\n",
       "  </tbody>\n",
       "</table>\n",
       "</div>"
      ],
      "text/plain": [
       "        RSE  Succès client  Pro & GP  Innovant    Urgent  Services tiers\n",
       "0  0.000000       0.283333  0.280000  0.641667  0.111111        0.072222\n",
       "1  0.134615       0.177083  0.350000  0.429688  0.104167        0.135417\n",
       "2  0.000000       0.188889  0.373333  0.091667  0.555556        0.216667\n",
       "3  0.067308       0.442708  0.087500  0.000000  0.000000        0.609375\n",
       "4  0.000000       0.566667  0.093333  0.000000  0.222222        0.433333"
      ]
     },
     "execution_count": 10,
     "metadata": {},
     "output_type": "execute_result"
    }
   ],
   "source": [
    "print(\"Données Normalisées :\")\n",
    "Donnees_normalisees.head()"
   ]
  },
  {
   "cell_type": "markdown",
   "metadata": {
    "slideshow": {
     "slide_type": "slide"
    }
   },
   "source": [
    "## D : Spectral Co-clustering"
   ]
  },
  {
   "cell_type": "markdown",
   "metadata": {
    "slideshow": {
     "slide_type": "fragment"
    }
   },
   "source": [
    "### SciKit Learn\n",
    "<img src=\"Captures\\sklearn_logo.png\" width=300>"
   ]
  },
  {
   "cell_type": "markdown",
   "metadata": {
    "slideshow": {
     "slide_type": "subslide"
    }
   },
   "source": [
    "Importation de sklearn"
   ]
  },
  {
   "cell_type": "code",
   "execution_count": 11,
   "metadata": {
    "slideshow": {
     "slide_type": "fragment"
    }
   },
   "outputs": [],
   "source": [
    "from sklearn.cluster import SpectralCoclustering"
   ]
  },
  {
   "cell_type": "markdown",
   "metadata": {
    "slideshow": {
     "slide_type": "fragment"
    }
   },
   "source": [
    "Détermination du nombre de clusters"
   ]
  },
  {
   "cell_type": "code",
   "execution_count": 12,
   "metadata": {
    "slideshow": {
     "slide_type": "fragment"
    }
   },
   "outputs": [],
   "source": [
    "N_clusters=10"
   ]
  },
  {
   "cell_type": "markdown",
   "metadata": {
    "slideshow": {
     "slide_type": "subslide"
    }
   },
   "source": [
    "Clustering"
   ]
  },
  {
   "cell_type": "code",
   "execution_count": 13,
   "metadata": {
    "slideshow": {
     "slide_type": "fragment"
    }
   },
   "outputs": [],
   "source": [
    "clustering = SpectralCoclustering(n_clusters=N_clusters, random_state=0).fit(Donnees_normalisees)"
   ]
  },
  {
   "cell_type": "code",
   "execution_count": 14,
   "metadata": {
    "slideshow": {
     "slide_type": "fragment"
    }
   },
   "outputs": [
    {
     "data": {
      "text/plain": [
       "array([1, 1, 7, 2, 8, 8, 4, 1, 4, 8, 1, 1, 3, 9, 9, 4, 1, 4, 1, 5, 9, 7,\n",
       "       4, 5, 5, 3, 3, 5, 1, 5, 5, 1, 1, 8, 3, 5, 2, 9, 6, 1, 1, 1, 1, 1,\n",
       "       1, 0, 0, 1, 8, 8, 2, 1, 1, 1, 1, 1, 2, 3, 5, 3, 1, 1, 5, 3, 3, 4,\n",
       "       5, 7, 7, 4, 4, 4, 4, 1, 5, 3, 1, 9, 1, 3, 8, 1, 1, 4, 4, 4, 9, 9,\n",
       "       0, 5, 8, 6, 8, 2, 6, 2, 2, 2, 6, 2, 1, 2, 2, 6, 6, 2, 6, 2, 2, 3,\n",
       "       2, 0, 1, 2, 6, 3, 2, 0, 3, 2, 2, 2, 2, 2, 9, 2, 2, 3, 5, 0, 6, 3,\n",
       "       2, 2, 2, 4, 7, 1, 9, 7, 0, 6, 4, 7, 0, 7, 8, 6, 0, 3, 6, 0, 8, 5,\n",
       "       4, 0, 7, 0, 0, 7, 8, 0, 1, 1, 7, 2, 0, 9, 6], dtype=int32)"
      ]
     },
     "execution_count": 14,
     "metadata": {},
     "output_type": "execute_result"
    }
   ],
   "source": [
    "clustering.row_labels_"
   ]
  },
  {
   "cell_type": "markdown",
   "metadata": {
    "slideshow": {
     "slide_type": "slide"
    }
   },
   "source": [
    "## E : Centres des clusters"
   ]
  },
  {
   "cell_type": "markdown",
   "metadata": {
    "slideshow": {
     "slide_type": "subslide"
    }
   },
   "source": [
    "Idées du cluster n°4"
   ]
  },
  {
   "cell_type": "code",
   "execution_count": 15,
   "metadata": {
    "slideshow": {
     "slide_type": "fragment"
    }
   },
   "outputs": [
    {
     "data": {
      "text/html": [
       "<div>\n",
       "<style scoped>\n",
       "    .dataframe tbody tr th:only-of-type {\n",
       "        vertical-align: middle;\n",
       "    }\n",
       "\n",
       "    .dataframe tbody tr th {\n",
       "        vertical-align: top;\n",
       "    }\n",
       "\n",
       "    .dataframe thead th {\n",
       "        text-align: right;\n",
       "    }\n",
       "</style>\n",
       "<table border=\"1\" class=\"dataframe\">\n",
       "  <thead>\n",
       "    <tr style=\"text-align: right;\">\n",
       "      <th></th>\n",
       "      <th>RSE</th>\n",
       "      <th>Succès client</th>\n",
       "      <th>Pro &amp; GP</th>\n",
       "      <th>Innovant</th>\n",
       "      <th>Urgent</th>\n",
       "      <th>Services tiers</th>\n",
       "    </tr>\n",
       "  </thead>\n",
       "  <tbody>\n",
       "    <tr>\n",
       "      <th>6</th>\n",
       "      <td>0.000000</td>\n",
       "      <td>0.000000</td>\n",
       "      <td>0.381818</td>\n",
       "      <td>0.375000</td>\n",
       "      <td>0.757576</td>\n",
       "      <td>0.000000</td>\n",
       "    </tr>\n",
       "    <tr>\n",
       "      <th>8</th>\n",
       "      <td>0.269231</td>\n",
       "      <td>0.088542</td>\n",
       "      <td>0.262500</td>\n",
       "      <td>0.343750</td>\n",
       "      <td>0.416667</td>\n",
       "      <td>0.000000</td>\n",
       "    </tr>\n",
       "    <tr>\n",
       "      <th>15</th>\n",
       "      <td>0.067308</td>\n",
       "      <td>0.000000</td>\n",
       "      <td>0.875000</td>\n",
       "      <td>0.085938</td>\n",
       "      <td>0.312500</td>\n",
       "      <td>0.067708</td>\n",
       "    </tr>\n",
       "    <tr>\n",
       "      <th>17</th>\n",
       "      <td>0.071795</td>\n",
       "      <td>0.094444</td>\n",
       "      <td>0.560000</td>\n",
       "      <td>0.091667</td>\n",
       "      <td>0.555556</td>\n",
       "      <td>0.072222</td>\n",
       "    </tr>\n",
       "    <tr>\n",
       "      <th>22</th>\n",
       "      <td>0.430769</td>\n",
       "      <td>0.188889</td>\n",
       "      <td>0.373333</td>\n",
       "      <td>0.091667</td>\n",
       "      <td>0.222222</td>\n",
       "      <td>0.000000</td>\n",
       "    </tr>\n",
       "    <tr>\n",
       "      <th>65</th>\n",
       "      <td>0.067308</td>\n",
       "      <td>0.000000</td>\n",
       "      <td>0.175000</td>\n",
       "      <td>0.601562</td>\n",
       "      <td>0.520833</td>\n",
       "      <td>0.067708</td>\n",
       "    </tr>\n",
       "    <tr>\n",
       "      <th>69</th>\n",
       "      <td>0.307692</td>\n",
       "      <td>0.101190</td>\n",
       "      <td>0.400000</td>\n",
       "      <td>0.098214</td>\n",
       "      <td>0.476190</td>\n",
       "      <td>0.000000</td>\n",
       "    </tr>\n",
       "    <tr>\n",
       "      <th>70</th>\n",
       "      <td>0.000000</td>\n",
       "      <td>0.354167</td>\n",
       "      <td>0.787500</td>\n",
       "      <td>0.085938</td>\n",
       "      <td>0.208333</td>\n",
       "      <td>0.000000</td>\n",
       "    </tr>\n",
       "    <tr>\n",
       "      <th>71</th>\n",
       "      <td>0.089744</td>\n",
       "      <td>0.118056</td>\n",
       "      <td>0.466667</td>\n",
       "      <td>0.343750</td>\n",
       "      <td>0.416667</td>\n",
       "      <td>0.000000</td>\n",
       "    </tr>\n",
       "    <tr>\n",
       "      <th>72</th>\n",
       "      <td>0.153846</td>\n",
       "      <td>0.202381</td>\n",
       "      <td>0.200000</td>\n",
       "      <td>0.196429</td>\n",
       "      <td>0.476190</td>\n",
       "      <td>0.154762</td>\n",
       "    </tr>\n",
       "    <tr>\n",
       "      <th>83</th>\n",
       "      <td>0.071795</td>\n",
       "      <td>0.188889</td>\n",
       "      <td>0.466667</td>\n",
       "      <td>0.275000</td>\n",
       "      <td>0.444444</td>\n",
       "      <td>0.000000</td>\n",
       "    </tr>\n",
       "    <tr>\n",
       "      <th>84</th>\n",
       "      <td>0.384615</td>\n",
       "      <td>0.101190</td>\n",
       "      <td>0.300000</td>\n",
       "      <td>0.196429</td>\n",
       "      <td>0.357143</td>\n",
       "      <td>0.000000</td>\n",
       "    </tr>\n",
       "    <tr>\n",
       "      <th>85</th>\n",
       "      <td>0.153846</td>\n",
       "      <td>0.202381</td>\n",
       "      <td>0.200000</td>\n",
       "      <td>0.294643</td>\n",
       "      <td>0.476190</td>\n",
       "      <td>0.077381</td>\n",
       "    </tr>\n",
       "    <tr>\n",
       "      <th>135</th>\n",
       "      <td>0.000000</td>\n",
       "      <td>0.094444</td>\n",
       "      <td>0.560000</td>\n",
       "      <td>0.275000</td>\n",
       "      <td>0.444444</td>\n",
       "      <td>0.072222</td>\n",
       "    </tr>\n",
       "    <tr>\n",
       "      <th>142</th>\n",
       "      <td>0.000000</td>\n",
       "      <td>0.088542</td>\n",
       "      <td>0.787500</td>\n",
       "      <td>0.000000</td>\n",
       "      <td>0.416667</td>\n",
       "      <td>0.135417</td>\n",
       "    </tr>\n",
       "    <tr>\n",
       "      <th>154</th>\n",
       "      <td>0.215385</td>\n",
       "      <td>0.141667</td>\n",
       "      <td>0.280000</td>\n",
       "      <td>0.275000</td>\n",
       "      <td>0.500000</td>\n",
       "      <td>0.000000</td>\n",
       "    </tr>\n",
       "  </tbody>\n",
       "</table>\n",
       "</div>"
      ],
      "text/plain": [
       "          RSE  Succès client  Pro & GP  Innovant    Urgent  Services tiers\n",
       "6    0.000000       0.000000  0.381818  0.375000  0.757576        0.000000\n",
       "8    0.269231       0.088542  0.262500  0.343750  0.416667        0.000000\n",
       "15   0.067308       0.000000  0.875000  0.085938  0.312500        0.067708\n",
       "17   0.071795       0.094444  0.560000  0.091667  0.555556        0.072222\n",
       "22   0.430769       0.188889  0.373333  0.091667  0.222222        0.000000\n",
       "65   0.067308       0.000000  0.175000  0.601562  0.520833        0.067708\n",
       "69   0.307692       0.101190  0.400000  0.098214  0.476190        0.000000\n",
       "70   0.000000       0.354167  0.787500  0.085938  0.208333        0.000000\n",
       "71   0.089744       0.118056  0.466667  0.343750  0.416667        0.000000\n",
       "72   0.153846       0.202381  0.200000  0.196429  0.476190        0.154762\n",
       "83   0.071795       0.188889  0.466667  0.275000  0.444444        0.000000\n",
       "84   0.384615       0.101190  0.300000  0.196429  0.357143        0.000000\n",
       "85   0.153846       0.202381  0.200000  0.294643  0.476190        0.077381\n",
       "135  0.000000       0.094444  0.560000  0.275000  0.444444        0.072222\n",
       "142  0.000000       0.088542  0.787500  0.000000  0.416667        0.135417\n",
       "154  0.215385       0.141667  0.280000  0.275000  0.500000        0.000000"
      ]
     },
     "execution_count": 15,
     "metadata": {},
     "output_type": "execute_result"
    }
   ],
   "source": [
    "Donnees_normalisees.loc[clustering.row_labels_==4]"
   ]
  },
  {
   "cell_type": "markdown",
   "metadata": {
    "slideshow": {
     "slide_type": "subslide"
    }
   },
   "source": [
    "Moyenne des idées : Centre du cluster n°4"
   ]
  },
  {
   "cell_type": "code",
   "execution_count": 16,
   "metadata": {
    "slideshow": {
     "slide_type": "fragment"
    }
   },
   "outputs": [
    {
     "data": {
      "text/plain": [
       "RSE               0.142708\n",
       "Succès client     0.122799\n",
       "Pro & GP          0.442249\n",
       "Innovant          0.226874\n",
       "Urgent            0.437601\n",
       "Services tiers    0.040464\n",
       "dtype: float64"
      ]
     },
     "execution_count": 16,
     "metadata": {},
     "output_type": "execute_result"
    }
   ],
   "source": [
    "Donnees_normalisees.loc[clustering.row_labels_==4].mean() "
   ]
  },
  {
   "cell_type": "markdown",
   "metadata": {
    "slideshow": {
     "slide_type": "subslide"
    }
   },
   "source": [
    "Concaténation des centres des 10 clusters"
   ]
  },
  {
   "cell_type": "code",
   "execution_count": 17,
   "metadata": {
    "slideshow": {
     "slide_type": "fragment"
    }
   },
   "outputs": [
    {
     "data": {
      "text/html": [
       "<div>\n",
       "<style scoped>\n",
       "    .dataframe tbody tr th:only-of-type {\n",
       "        vertical-align: middle;\n",
       "    }\n",
       "\n",
       "    .dataframe tbody tr th {\n",
       "        vertical-align: top;\n",
       "    }\n",
       "\n",
       "    .dataframe thead th {\n",
       "        text-align: right;\n",
       "    }\n",
       "</style>\n",
       "<table border=\"1\" class=\"dataframe\">\n",
       "  <thead>\n",
       "    <tr style=\"text-align: right;\">\n",
       "      <th></th>\n",
       "      <th>0</th>\n",
       "      <th>1</th>\n",
       "      <th>2</th>\n",
       "      <th>3</th>\n",
       "      <th>4</th>\n",
       "      <th>5</th>\n",
       "      <th>6</th>\n",
       "      <th>7</th>\n",
       "      <th>8</th>\n",
       "      <th>9</th>\n",
       "    </tr>\n",
       "  </thead>\n",
       "  <tbody>\n",
       "    <tr>\n",
       "      <th>RSE</th>\n",
       "      <td>0.784006</td>\n",
       "      <td>0.028719</td>\n",
       "      <td>0.042690</td>\n",
       "      <td>0.062149</td>\n",
       "      <td>0.142708</td>\n",
       "      <td>0.069058</td>\n",
       "      <td>0.364664</td>\n",
       "      <td>0.076484</td>\n",
       "      <td>0.055449</td>\n",
       "      <td>0.392063</td>\n",
       "    </tr>\n",
       "    <tr>\n",
       "      <th>Succès client</th>\n",
       "      <td>0.078678</td>\n",
       "      <td>0.263022</td>\n",
       "      <td>0.198700</td>\n",
       "      <td>0.097472</td>\n",
       "      <td>0.122799</td>\n",
       "      <td>0.486245</td>\n",
       "      <td>0.064427</td>\n",
       "      <td>0.225583</td>\n",
       "      <td>0.759546</td>\n",
       "      <td>0.352345</td>\n",
       "    </tr>\n",
       "    <tr>\n",
       "      <th>Pro &amp; GP</th>\n",
       "      <td>0.050940</td>\n",
       "      <td>0.274239</td>\n",
       "      <td>0.137580</td>\n",
       "      <td>0.503088</td>\n",
       "      <td>0.442249</td>\n",
       "      <td>0.273975</td>\n",
       "      <td>0.189068</td>\n",
       "      <td>0.229062</td>\n",
       "      <td>0.121168</td>\n",
       "      <td>0.144251</td>\n",
       "    </tr>\n",
       "    <tr>\n",
       "      <th>Innovant</th>\n",
       "      <td>0.076997</td>\n",
       "      <td>0.581379</td>\n",
       "      <td>0.052751</td>\n",
       "      <td>0.207897</td>\n",
       "      <td>0.226874</td>\n",
       "      <td>0.155823</td>\n",
       "      <td>0.138207</td>\n",
       "      <td>0.080541</td>\n",
       "      <td>0.150949</td>\n",
       "      <td>0.209366</td>\n",
       "    </tr>\n",
       "    <tr>\n",
       "      <th>Urgent</th>\n",
       "      <td>0.063736</td>\n",
       "      <td>0.090874</td>\n",
       "      <td>0.027957</td>\n",
       "      <td>0.128546</td>\n",
       "      <td>0.437601</td>\n",
       "      <td>0.401894</td>\n",
       "      <td>0.009158</td>\n",
       "      <td>0.774781</td>\n",
       "      <td>0.084048</td>\n",
       "      <td>0.094797</td>\n",
       "    </tr>\n",
       "    <tr>\n",
       "      <th>Services tiers</th>\n",
       "      <td>0.092983</td>\n",
       "      <td>0.123976</td>\n",
       "      <td>0.722248</td>\n",
       "      <td>0.309631</td>\n",
       "      <td>0.040464</td>\n",
       "      <td>0.046025</td>\n",
       "      <td>0.406086</td>\n",
       "      <td>0.089574</td>\n",
       "      <td>0.179403</td>\n",
       "      <td>0.081300</td>\n",
       "    </tr>\n",
       "  </tbody>\n",
       "</table>\n",
       "</div>"
      ],
      "text/plain": [
       "                       0         1         2         3         4         5  \\\n",
       "RSE             0.784006  0.028719  0.042690  0.062149  0.142708  0.069058   \n",
       "Succès client   0.078678  0.263022  0.198700  0.097472  0.122799  0.486245   \n",
       "Pro & GP        0.050940  0.274239  0.137580  0.503088  0.442249  0.273975   \n",
       "Innovant        0.076997  0.581379  0.052751  0.207897  0.226874  0.155823   \n",
       "Urgent          0.063736  0.090874  0.027957  0.128546  0.437601  0.401894   \n",
       "Services tiers  0.092983  0.123976  0.722248  0.309631  0.040464  0.046025   \n",
       "\n",
       "                       6         7         8         9  \n",
       "RSE             0.364664  0.076484  0.055449  0.392063  \n",
       "Succès client   0.064427  0.225583  0.759546  0.352345  \n",
       "Pro & GP        0.189068  0.229062  0.121168  0.144251  \n",
       "Innovant        0.138207  0.080541  0.150949  0.209366  \n",
       "Urgent          0.009158  0.774781  0.084048  0.094797  \n",
       "Services tiers  0.406086  0.089574  0.179403  0.081300  "
      ]
     },
     "execution_count": 17,
     "metadata": {},
     "output_type": "execute_result"
    }
   ],
   "source": [
    "#On a donc les 10 centres des clusters définis en 6 dimensions dans la table centers.\n",
    "centers=pd.concat([Donnees_normalisees.loc[clustering.row_labels_==i].mean() \n",
    "                   for i in range(N_clusters)],axis=1)\n",
    "centers"
   ]
  },
  {
   "cell_type": "markdown",
   "metadata": {
    "slideshow": {
     "slide_type": "subslide"
    }
   },
   "source": [
    "Transposition du tableau"
   ]
  },
  {
   "cell_type": "code",
   "execution_count": 18,
   "metadata": {
    "slideshow": {
     "slide_type": "fragment"
    }
   },
   "outputs": [
    {
     "data": {
      "text/html": [
       "<div>\n",
       "<style scoped>\n",
       "    .dataframe tbody tr th:only-of-type {\n",
       "        vertical-align: middle;\n",
       "    }\n",
       "\n",
       "    .dataframe tbody tr th {\n",
       "        vertical-align: top;\n",
       "    }\n",
       "\n",
       "    .dataframe thead th {\n",
       "        text-align: right;\n",
       "    }\n",
       "</style>\n",
       "<table border=\"1\" class=\"dataframe\">\n",
       "  <thead>\n",
       "    <tr style=\"text-align: right;\">\n",
       "      <th></th>\n",
       "      <th>RSE</th>\n",
       "      <th>Succès client</th>\n",
       "      <th>Pro &amp; GP</th>\n",
       "      <th>Innovant</th>\n",
       "      <th>Urgent</th>\n",
       "      <th>Services tiers</th>\n",
       "    </tr>\n",
       "  </thead>\n",
       "  <tbody>\n",
       "    <tr>\n",
       "      <th>0</th>\n",
       "      <td>0.784006</td>\n",
       "      <td>0.078678</td>\n",
       "      <td>0.050940</td>\n",
       "      <td>0.076997</td>\n",
       "      <td>0.063736</td>\n",
       "      <td>0.092983</td>\n",
       "    </tr>\n",
       "    <tr>\n",
       "      <th>1</th>\n",
       "      <td>0.028719</td>\n",
       "      <td>0.263022</td>\n",
       "      <td>0.274239</td>\n",
       "      <td>0.581379</td>\n",
       "      <td>0.090874</td>\n",
       "      <td>0.123976</td>\n",
       "    </tr>\n",
       "    <tr>\n",
       "      <th>2</th>\n",
       "      <td>0.042690</td>\n",
       "      <td>0.198700</td>\n",
       "      <td>0.137580</td>\n",
       "      <td>0.052751</td>\n",
       "      <td>0.027957</td>\n",
       "      <td>0.722248</td>\n",
       "    </tr>\n",
       "    <tr>\n",
       "      <th>3</th>\n",
       "      <td>0.062149</td>\n",
       "      <td>0.097472</td>\n",
       "      <td>0.503088</td>\n",
       "      <td>0.207897</td>\n",
       "      <td>0.128546</td>\n",
       "      <td>0.309631</td>\n",
       "    </tr>\n",
       "    <tr>\n",
       "      <th>4</th>\n",
       "      <td>0.142708</td>\n",
       "      <td>0.122799</td>\n",
       "      <td>0.442249</td>\n",
       "      <td>0.226874</td>\n",
       "      <td>0.437601</td>\n",
       "      <td>0.040464</td>\n",
       "    </tr>\n",
       "    <tr>\n",
       "      <th>5</th>\n",
       "      <td>0.069058</td>\n",
       "      <td>0.486245</td>\n",
       "      <td>0.273975</td>\n",
       "      <td>0.155823</td>\n",
       "      <td>0.401894</td>\n",
       "      <td>0.046025</td>\n",
       "    </tr>\n",
       "    <tr>\n",
       "      <th>6</th>\n",
       "      <td>0.364664</td>\n",
       "      <td>0.064427</td>\n",
       "      <td>0.189068</td>\n",
       "      <td>0.138207</td>\n",
       "      <td>0.009158</td>\n",
       "      <td>0.406086</td>\n",
       "    </tr>\n",
       "    <tr>\n",
       "      <th>7</th>\n",
       "      <td>0.076484</td>\n",
       "      <td>0.225583</td>\n",
       "      <td>0.229062</td>\n",
       "      <td>0.080541</td>\n",
       "      <td>0.774781</td>\n",
       "      <td>0.089574</td>\n",
       "    </tr>\n",
       "    <tr>\n",
       "      <th>8</th>\n",
       "      <td>0.055449</td>\n",
       "      <td>0.759546</td>\n",
       "      <td>0.121168</td>\n",
       "      <td>0.150949</td>\n",
       "      <td>0.084048</td>\n",
       "      <td>0.179403</td>\n",
       "    </tr>\n",
       "    <tr>\n",
       "      <th>9</th>\n",
       "      <td>0.392063</td>\n",
       "      <td>0.352345</td>\n",
       "      <td>0.144251</td>\n",
       "      <td>0.209366</td>\n",
       "      <td>0.094797</td>\n",
       "      <td>0.081300</td>\n",
       "    </tr>\n",
       "  </tbody>\n",
       "</table>\n",
       "</div>"
      ],
      "text/plain": [
       "        RSE  Succès client  Pro & GP  Innovant    Urgent  Services tiers\n",
       "0  0.784006       0.078678  0.050940  0.076997  0.063736        0.092983\n",
       "1  0.028719       0.263022  0.274239  0.581379  0.090874        0.123976\n",
       "2  0.042690       0.198700  0.137580  0.052751  0.027957        0.722248\n",
       "3  0.062149       0.097472  0.503088  0.207897  0.128546        0.309631\n",
       "4  0.142708       0.122799  0.442249  0.226874  0.437601        0.040464\n",
       "5  0.069058       0.486245  0.273975  0.155823  0.401894        0.046025\n",
       "6  0.364664       0.064427  0.189068  0.138207  0.009158        0.406086\n",
       "7  0.076484       0.225583  0.229062  0.080541  0.774781        0.089574\n",
       "8  0.055449       0.759546  0.121168  0.150949  0.084048        0.179403\n",
       "9  0.392063       0.352345  0.144251  0.209366  0.094797        0.081300"
      ]
     },
     "execution_count": 18,
     "metadata": {},
     "output_type": "execute_result"
    }
   ],
   "source": [
    "centers=centers.transpose()\n",
    "centers"
   ]
  },
  {
   "cell_type": "markdown",
   "metadata": {
    "slideshow": {
     "slide_type": "slide"
    }
   },
   "source": [
    "## F : Enregistrement pour la suite"
   ]
  },
  {
   "cell_type": "raw",
   "metadata": {
    "slideshow": {
     "slide_type": "subslide"
    }
   },
   "source": [
    "Ajout de la colonne 'Cluster'"
   ]
  },
  {
   "cell_type": "code",
   "execution_count": 19,
   "metadata": {
    "slideshow": {
     "slide_type": "fragment"
    }
   },
   "outputs": [
    {
     "data": {
      "text/html": [
       "<div>\n",
       "<style scoped>\n",
       "    .dataframe tbody tr th:only-of-type {\n",
       "        vertical-align: middle;\n",
       "    }\n",
       "\n",
       "    .dataframe tbody tr th {\n",
       "        vertical-align: top;\n",
       "    }\n",
       "\n",
       "    .dataframe thead th {\n",
       "        text-align: right;\n",
       "    }\n",
       "</style>\n",
       "<table border=\"1\" class=\"dataframe\">\n",
       "  <thead>\n",
       "    <tr style=\"text-align: right;\">\n",
       "      <th></th>\n",
       "      <th>RSE</th>\n",
       "      <th>Succès client</th>\n",
       "      <th>Pro &amp; GP</th>\n",
       "      <th>Innovant</th>\n",
       "      <th>Urgent</th>\n",
       "      <th>Services tiers</th>\n",
       "      <th>Cluster</th>\n",
       "    </tr>\n",
       "  </thead>\n",
       "  <tbody>\n",
       "    <tr>\n",
       "      <th>0</th>\n",
       "      <td>0.000000</td>\n",
       "      <td>0.283333</td>\n",
       "      <td>0.280000</td>\n",
       "      <td>0.641667</td>\n",
       "      <td>0.111111</td>\n",
       "      <td>0.072222</td>\n",
       "      <td>1</td>\n",
       "    </tr>\n",
       "    <tr>\n",
       "      <th>1</th>\n",
       "      <td>0.134615</td>\n",
       "      <td>0.177083</td>\n",
       "      <td>0.350000</td>\n",
       "      <td>0.429688</td>\n",
       "      <td>0.104167</td>\n",
       "      <td>0.135417</td>\n",
       "      <td>1</td>\n",
       "    </tr>\n",
       "    <tr>\n",
       "      <th>2</th>\n",
       "      <td>0.000000</td>\n",
       "      <td>0.188889</td>\n",
       "      <td>0.373333</td>\n",
       "      <td>0.091667</td>\n",
       "      <td>0.555556</td>\n",
       "      <td>0.216667</td>\n",
       "      <td>7</td>\n",
       "    </tr>\n",
       "    <tr>\n",
       "      <th>3</th>\n",
       "      <td>0.067308</td>\n",
       "      <td>0.442708</td>\n",
       "      <td>0.087500</td>\n",
       "      <td>0.000000</td>\n",
       "      <td>0.000000</td>\n",
       "      <td>0.609375</td>\n",
       "      <td>2</td>\n",
       "    </tr>\n",
       "    <tr>\n",
       "      <th>4</th>\n",
       "      <td>0.000000</td>\n",
       "      <td>0.566667</td>\n",
       "      <td>0.093333</td>\n",
       "      <td>0.000000</td>\n",
       "      <td>0.222222</td>\n",
       "      <td>0.433333</td>\n",
       "      <td>8</td>\n",
       "    </tr>\n",
       "  </tbody>\n",
       "</table>\n",
       "</div>"
      ],
      "text/plain": [
       "        RSE  Succès client  Pro & GP  Innovant    Urgent  Services tiers  \\\n",
       "0  0.000000       0.283333  0.280000  0.641667  0.111111        0.072222   \n",
       "1  0.134615       0.177083  0.350000  0.429688  0.104167        0.135417   \n",
       "2  0.000000       0.188889  0.373333  0.091667  0.555556        0.216667   \n",
       "3  0.067308       0.442708  0.087500  0.000000  0.000000        0.609375   \n",
       "4  0.000000       0.566667  0.093333  0.000000  0.222222        0.433333   \n",
       "\n",
       "   Cluster  \n",
       "0        1  \n",
       "1        1  \n",
       "2        7  \n",
       "3        2  \n",
       "4        8  "
      ]
     },
     "execution_count": 19,
     "metadata": {},
     "output_type": "execute_result"
    }
   ],
   "source": [
    "Donnees_normalisees['Cluster']=clustering.row_labels_\n",
    "Donnees_normalisees.head()"
   ]
  },
  {
   "cell_type": "markdown",
   "metadata": {
    "slideshow": {
     "slide_type": "subslide"
    }
   },
   "source": [
    "Enregistrement"
   ]
  },
  {
   "cell_type": "code",
   "execution_count": 20,
   "metadata": {
    "slideshow": {
     "slide_type": "fragment"
    }
   },
   "outputs": [],
   "source": [
    "centers.to_excel(\"Centers.xlsx\")\n",
    "Donnees_normalisees.to_excel(\"Données normalisées.xlsx\")"
   ]
  },
  {
   "cell_type": "markdown",
   "metadata": {
    "slideshow": {
     "slide_type": "fragment"
    }
   },
   "source": [
    "Résultat :<br>\n",
    "<img src=\"Captures\\fichiers.png\">"
   ]
  },
  {
   "cell_type": "markdown",
   "metadata": {
    "slideshow": {
     "slide_type": "slide"
    }
   },
   "source": [
    "### Bonus : en savoir plus"
   ]
  },
  {
   "cell_type": "markdown",
   "metadata": {
    "slideshow": {
     "slide_type": "fragment"
    }
   },
   "source": [
    "Plusieurs sites sont disponibles :\n",
    "- En Anglais :\n",
    "    - Documentation de Pandas : <br>\n",
    "    http://pandas.pydata.org/pandas-docs/stable/\n",
    "    - Documentation de sklearn : <br>\n",
    "    https://scikit-learn.org/stable/documentation.html\n",
    "- En Français :\n",
    "    - Tutoriel Pandas : <br>\n",
    "    http://www.python-simple.com/python-pandas/panda-intro.php"
   ]
  }
 ],
 "metadata": {
  "celltoolbar": "Diaporama",
  "kernelspec": {
   "display_name": "Python 3",
   "language": "python",
   "name": "python3"
  },
  "language_info": {
   "codemirror_mode": {
    "name": "ipython",
    "version": 3
   },
   "file_extension": ".py",
   "mimetype": "text/x-python",
   "name": "python",
   "nbconvert_exporter": "python",
   "pygments_lexer": "ipython3",
   "version": "3.7.4"
  }
 },
 "nbformat": 4,
 "nbformat_minor": 2
}
